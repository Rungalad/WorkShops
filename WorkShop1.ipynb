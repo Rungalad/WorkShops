{
  "nbformat": 4,
  "nbformat_minor": 0,
  "metadata": {
    "colab": {
      "provenance": [],
      "collapsed_sections": [
        "9IAfWzVHxN3Z",
        "x7_Q2N71_lEn"
      ]
    },
    "kernelspec": {
      "name": "python3",
      "display_name": "Python 3"
    },
    "language_info": {
      "name": "python"
    }
  },
  "cells": [
    {
      "cell_type": "code",
      "execution_count": null,
      "metadata": {
        "colab": {
          "base_uri": "https://localhost:8080/"
        },
        "id": "iD0KTxDVsBRH",
        "outputId": "e7ee78ff-b710-4c3d-b14b-be730b71db84"
      },
      "outputs": [
        {
          "output_type": "stream",
          "name": "stdout",
          "text": [
            "The autoreload extension is already loaded. To reload it, use:\n",
            "  %reload_ext autoreload\n"
          ]
        }
      ],
      "source": [
        "%load_ext autoreload\n",
        "%autoreload 2"
      ]
    },
    {
      "cell_type": "code",
      "source": [
        "import os\n",
        "os.chdir(r\"/content/drive/MyDrive/WorkShopsSber\")"
      ],
      "metadata": {
        "id": "PYOdyFYIuUHl"
      },
      "execution_count": null,
      "outputs": []
    },
    {
      "cell_type": "code",
      "source": [
        "!unzip -d . dataset.txt.zip"
      ],
      "metadata": {
        "colab": {
          "base_uri": "https://localhost:8080/"
        },
        "id": "CzBZTXLsuYik",
        "outputId": "ba7725f5-e16b-446d-dab0-aa5e428806be"
      },
      "execution_count": null,
      "outputs": [
        {
          "output_type": "stream",
          "name": "stdout",
          "text": [
            "Archive:  dataset.txt.zip\n",
            "  inflating: ./dataset.txt           \n"
          ]
        }
      ]
    },
    {
      "cell_type": "code",
      "source": [
        "!pip install pymorphy2"
      ],
      "metadata": {
        "colab": {
          "base_uri": "https://localhost:8080/"
        },
        "id": "PuFBXcr-xZug",
        "outputId": "9f768722-ec67-4dc3-f48c-2185fb0d987f"
      },
      "execution_count": null,
      "outputs": [
        {
          "output_type": "stream",
          "name": "stdout",
          "text": [
            "Collecting pymorphy2\n",
            "  Downloading pymorphy2-0.9.1-py3-none-any.whl (55 kB)\n",
            "\u001b[?25l     \u001b[90m━━━━━━━━━━━━━━━━━━━━━━━━━━━━━━━━━━━━━━━━\u001b[0m \u001b[32m0.0/55.5 kB\u001b[0m \u001b[31m?\u001b[0m eta \u001b[36m-:--:--\u001b[0m\r\u001b[2K     \u001b[90m━━━━━━━━━━━━━━━━━━━━━━━━━━━━━━━━━━━━━━━━\u001b[0m \u001b[32m55.5/55.5 kB\u001b[0m \u001b[31m2.4 MB/s\u001b[0m eta \u001b[36m0:00:00\u001b[0m\n",
            "\u001b[?25hCollecting dawg-python>=0.7.1 (from pymorphy2)\n",
            "  Downloading DAWG_Python-0.7.2-py2.py3-none-any.whl (11 kB)\n",
            "Collecting pymorphy2-dicts-ru<3.0,>=2.4 (from pymorphy2)\n",
            "  Downloading pymorphy2_dicts_ru-2.4.417127.4579844-py2.py3-none-any.whl (8.2 MB)\n",
            "\u001b[2K     \u001b[90m━━━━━━━━━━━━━━━━━━━━━━━━━━━━━━━━━━━━━━━━\u001b[0m \u001b[32m8.2/8.2 MB\u001b[0m \u001b[31m18.9 MB/s\u001b[0m eta \u001b[36m0:00:00\u001b[0m\n",
            "\u001b[?25hCollecting docopt>=0.6 (from pymorphy2)\n",
            "  Downloading docopt-0.6.2.tar.gz (25 kB)\n",
            "  Preparing metadata (setup.py) ... \u001b[?25l\u001b[?25hdone\n",
            "Building wheels for collected packages: docopt\n",
            "  Building wheel for docopt (setup.py) ... \u001b[?25l\u001b[?25hdone\n",
            "  Created wheel for docopt: filename=docopt-0.6.2-py2.py3-none-any.whl size=13706 sha256=0c3eb4a64c6a4d60d4547d97b2e4304ec57a6cc3f1606bf742c9b36fe22fd05c\n",
            "  Stored in directory: /root/.cache/pip/wheels/fc/ab/d4/5da2067ac95b36618c629a5f93f809425700506f72c9732fac\n",
            "Successfully built docopt\n",
            "Installing collected packages: pymorphy2-dicts-ru, docopt, dawg-python, pymorphy2\n",
            "Successfully installed dawg-python-0.7.2 docopt-0.6.2 pymorphy2-0.9.1 pymorphy2-dicts-ru-2.4.417127.4579844\n"
          ]
        }
      ]
    },
    {
      "cell_type": "code",
      "source": [
        "# https://www.kaggle.com/datasets/alexandersemiletov/toxic-russian-comments?resource=download\n",
        "# https://habr.com/ru/articles/542624/"
      ],
      "metadata": {
        "id": "WAHIf46rKz00"
      },
      "execution_count": null,
      "outputs": []
    },
    {
      "cell_type": "code",
      "source": [
        "import re\n",
        "import pandas as pd\n",
        "import pymorphy2\n",
        "import nltk\n",
        "import numpy as np\n",
        "import lightgbm as lgb\n",
        "import hyperopt\n",
        "import copy\n",
        "\n",
        "from hyperopt import hp, fmin, tpe, Trials, STATUS_OK, STATUS_FAIL\n",
        "from sklearn.pipeline import Pipeline\n",
        "from tqdm import tqdm\n",
        "from nltk.corpus import stopwords\n",
        "from sklearn.feature_extraction.text import CountVectorizer, TfidfVectorizer\n",
        "from sklearn.model_selection import cross_val_score, train_test_split, StratifiedKFold\n",
        "from sklearn.metrics import roc_auc_score\n",
        "from functools import partial\n",
        "from itertools import chain\n",
        "from collections import Counter, OrderedDict"
      ],
      "metadata": {
        "id": "55nVoGN1sOpI"
      },
      "execution_count": null,
      "outputs": []
    },
    {
      "cell_type": "code",
      "source": [
        "nltk.download('stopwords')\n",
        "russian_stopwords = set(stopwords.words(\"russian\"))\n",
        "russian_stopwords = russian_stopwords - set([\"не\"])\n",
        "\"не\" in russian_stopwords"
      ],
      "metadata": {
        "colab": {
          "base_uri": "https://localhost:8080/"
        },
        "id": "A2bHOZJRxm0E",
        "outputId": "10cd8898-3391-4c9a-f3fe-1a138540fb9c"
      },
      "execution_count": null,
      "outputs": [
        {
          "output_type": "stream",
          "name": "stderr",
          "text": [
            "[nltk_data] Downloading package stopwords to /root/nltk_data...\n",
            "[nltk_data]   Package stopwords is already up-to-date!\n"
          ]
        },
        {
          "output_type": "execute_result",
          "data": {
            "text/plain": [
              "False"
            ]
          },
          "metadata": {},
          "execution_count": 52
        }
      ]
    },
    {
      "cell_type": "markdown",
      "source": [
        "### work with data"
      ],
      "metadata": {
        "id": "1jnW6QbUukQm"
      }
    },
    {
      "cell_type": "code",
      "source": [
        "data = open(r\"dataset.txt\", 'r').read().split('\\n')\n",
        "reg = r\"__label__[A-Z]+\"\n",
        "data = [[re.compile(reg).sub(\"\", i).strip(), re.compile(reg).findall(i)]\n",
        "        for i in tqdm(data)]\n",
        "data = pd.DataFrame(data, columns=['comment', 'target'])\n",
        "data_exploded = data.explode(['target']).reset_index(drop=True)"
      ],
      "metadata": {
        "colab": {
          "base_uri": "https://localhost:8080/"
        },
        "id": "BSF8tHLlumlF",
        "outputId": "04675d99-fe25-4041-9c2d-c4846305794d"
      },
      "execution_count": null,
      "outputs": [
        {
          "output_type": "stream",
          "name": "stderr",
          "text": [
            "100%|██████████| 248291/248291 [00:01<00:00, 145072.25it/s]\n"
          ]
        }
      ]
    },
    {
      "cell_type": "code",
      "source": [
        "dataset = data_exploded[data_exploded['target'].isin(['__label__NORMAL', '__label__INSULT'])]\n",
        "print(\"dataset shape: \", dataset.shape)\n",
        "data_exploded['target'].value_counts()\n",
        "# сначала работаем только с INSULT"
      ],
      "metadata": {
        "colab": {
          "base_uri": "https://localhost:8080/"
        },
        "id": "lA9kWNRvw1if",
        "outputId": "80d68c0e-85b7-4d3c-a9ba-12b5e872ecc8"
      },
      "execution_count": null,
      "outputs": [
        {
          "output_type": "stream",
          "name": "stdout",
          "text": [
            "dataset shape:  (240511, 2)\n"
          ]
        },
        {
          "output_type": "execute_result",
          "data": {
            "text/plain": [
              "target\n",
              "__label__NORMAL       203685\n",
              "__label__INSULT        36826\n",
              "__label__THREAT        12027\n",
              "__label__OBSCENITY      4261\n",
              "Name: count, dtype: int64"
            ]
          },
          "metadata": {},
          "execution_count": 40
        }
      ]
    },
    {
      "cell_type": "code",
      "source": [
        "dataset.head()"
      ],
      "metadata": {
        "colab": {
          "base_uri": "https://localhost:8080/",
          "height": 206
        },
        "id": "1xy0pP-Vwh4d",
        "outputId": "2b6e84df-8791-4ba0-c947-9e554fa8789c"
      },
      "execution_count": null,
      "outputs": [
        {
          "output_type": "execute_result",
          "data": {
            "text/plain": [
              "                                             comment           target\n",
              "0                               скотина! что сказать  __label__INSULT\n",
              "1  я сегодня проезжала по рабочей и между домами ...  __label__NORMAL\n",
              "2  очередной лохотрон. зачем придумывать очередно...  __label__NORMAL\n",
              "3  ретро дежавю ... сложно понять чужое сердце , ...  __label__NORMAL\n",
              "4            а когда мы статус агрогородка получили?  __label__NORMAL"
            ],
            "text/html": [
              "\n",
              "  <div id=\"df-a60ca2a3-b93b-4832-bef0-ab71ec5c914d\" class=\"colab-df-container\">\n",
              "    <div>\n",
              "<style scoped>\n",
              "    .dataframe tbody tr th:only-of-type {\n",
              "        vertical-align: middle;\n",
              "    }\n",
              "\n",
              "    .dataframe tbody tr th {\n",
              "        vertical-align: top;\n",
              "    }\n",
              "\n",
              "    .dataframe thead th {\n",
              "        text-align: right;\n",
              "    }\n",
              "</style>\n",
              "<table border=\"1\" class=\"dataframe\">\n",
              "  <thead>\n",
              "    <tr style=\"text-align: right;\">\n",
              "      <th></th>\n",
              "      <th>comment</th>\n",
              "      <th>target</th>\n",
              "    </tr>\n",
              "  </thead>\n",
              "  <tbody>\n",
              "    <tr>\n",
              "      <th>0</th>\n",
              "      <td>скотина! что сказать</td>\n",
              "      <td>__label__INSULT</td>\n",
              "    </tr>\n",
              "    <tr>\n",
              "      <th>1</th>\n",
              "      <td>я сегодня проезжала по рабочей и между домами ...</td>\n",
              "      <td>__label__NORMAL</td>\n",
              "    </tr>\n",
              "    <tr>\n",
              "      <th>2</th>\n",
              "      <td>очередной лохотрон. зачем придумывать очередно...</td>\n",
              "      <td>__label__NORMAL</td>\n",
              "    </tr>\n",
              "    <tr>\n",
              "      <th>3</th>\n",
              "      <td>ретро дежавю ... сложно понять чужое сердце , ...</td>\n",
              "      <td>__label__NORMAL</td>\n",
              "    </tr>\n",
              "    <tr>\n",
              "      <th>4</th>\n",
              "      <td>а когда мы статус агрогородка получили?</td>\n",
              "      <td>__label__NORMAL</td>\n",
              "    </tr>\n",
              "  </tbody>\n",
              "</table>\n",
              "</div>\n",
              "    <div class=\"colab-df-buttons\">\n",
              "\n",
              "  <div class=\"colab-df-container\">\n",
              "    <button class=\"colab-df-convert\" onclick=\"convertToInteractive('df-a60ca2a3-b93b-4832-bef0-ab71ec5c914d')\"\n",
              "            title=\"Convert this dataframe to an interactive table.\"\n",
              "            style=\"display:none;\">\n",
              "\n",
              "  <svg xmlns=\"http://www.w3.org/2000/svg\" height=\"24px\" viewBox=\"0 -960 960 960\">\n",
              "    <path d=\"M120-120v-720h720v720H120Zm60-500h600v-160H180v160Zm220 220h160v-160H400v160Zm0 220h160v-160H400v160ZM180-400h160v-160H180v160Zm440 0h160v-160H620v160ZM180-180h160v-160H180v160Zm440 0h160v-160H620v160Z\"/>\n",
              "  </svg>\n",
              "    </button>\n",
              "\n",
              "  <style>\n",
              "    .colab-df-container {\n",
              "      display:flex;\n",
              "      gap: 12px;\n",
              "    }\n",
              "\n",
              "    .colab-df-convert {\n",
              "      background-color: #E8F0FE;\n",
              "      border: none;\n",
              "      border-radius: 50%;\n",
              "      cursor: pointer;\n",
              "      display: none;\n",
              "      fill: #1967D2;\n",
              "      height: 32px;\n",
              "      padding: 0 0 0 0;\n",
              "      width: 32px;\n",
              "    }\n",
              "\n",
              "    .colab-df-convert:hover {\n",
              "      background-color: #E2EBFA;\n",
              "      box-shadow: 0px 1px 2px rgba(60, 64, 67, 0.3), 0px 1px 3px 1px rgba(60, 64, 67, 0.15);\n",
              "      fill: #174EA6;\n",
              "    }\n",
              "\n",
              "    .colab-df-buttons div {\n",
              "      margin-bottom: 4px;\n",
              "    }\n",
              "\n",
              "    [theme=dark] .colab-df-convert {\n",
              "      background-color: #3B4455;\n",
              "      fill: #D2E3FC;\n",
              "    }\n",
              "\n",
              "    [theme=dark] .colab-df-convert:hover {\n",
              "      background-color: #434B5C;\n",
              "      box-shadow: 0px 1px 3px 1px rgba(0, 0, 0, 0.15);\n",
              "      filter: drop-shadow(0px 1px 2px rgba(0, 0, 0, 0.3));\n",
              "      fill: #FFFFFF;\n",
              "    }\n",
              "  </style>\n",
              "\n",
              "    <script>\n",
              "      const buttonEl =\n",
              "        document.querySelector('#df-a60ca2a3-b93b-4832-bef0-ab71ec5c914d button.colab-df-convert');\n",
              "      buttonEl.style.display =\n",
              "        google.colab.kernel.accessAllowed ? 'block' : 'none';\n",
              "\n",
              "      async function convertToInteractive(key) {\n",
              "        const element = document.querySelector('#df-a60ca2a3-b93b-4832-bef0-ab71ec5c914d');\n",
              "        const dataTable =\n",
              "          await google.colab.kernel.invokeFunction('convertToInteractive',\n",
              "                                                    [key], {});\n",
              "        if (!dataTable) return;\n",
              "\n",
              "        const docLinkHtml = 'Like what you see? Visit the ' +\n",
              "          '<a target=\"_blank\" href=https://colab.research.google.com/notebooks/data_table.ipynb>data table notebook</a>'\n",
              "          + ' to learn more about interactive tables.';\n",
              "        element.innerHTML = '';\n",
              "        dataTable['output_type'] = 'display_data';\n",
              "        await google.colab.output.renderOutput(dataTable, element);\n",
              "        const docLink = document.createElement('div');\n",
              "        docLink.innerHTML = docLinkHtml;\n",
              "        element.appendChild(docLink);\n",
              "      }\n",
              "    </script>\n",
              "  </div>\n",
              "\n",
              "\n",
              "<div id=\"df-ade129c0-5720-4c36-9222-c75e08db9cc5\">\n",
              "  <button class=\"colab-df-quickchart\" onclick=\"quickchart('df-ade129c0-5720-4c36-9222-c75e08db9cc5')\"\n",
              "            title=\"Suggest charts\"\n",
              "            style=\"display:none;\">\n",
              "\n",
              "<svg xmlns=\"http://www.w3.org/2000/svg\" height=\"24px\"viewBox=\"0 0 24 24\"\n",
              "     width=\"24px\">\n",
              "    <g>\n",
              "        <path d=\"M19 3H5c-1.1 0-2 .9-2 2v14c0 1.1.9 2 2 2h14c1.1 0 2-.9 2-2V5c0-1.1-.9-2-2-2zM9 17H7v-7h2v7zm4 0h-2V7h2v10zm4 0h-2v-4h2v4z\"/>\n",
              "    </g>\n",
              "</svg>\n",
              "  </button>\n",
              "\n",
              "<style>\n",
              "  .colab-df-quickchart {\n",
              "      --bg-color: #E8F0FE;\n",
              "      --fill-color: #1967D2;\n",
              "      --hover-bg-color: #E2EBFA;\n",
              "      --hover-fill-color: #174EA6;\n",
              "      --disabled-fill-color: #AAA;\n",
              "      --disabled-bg-color: #DDD;\n",
              "  }\n",
              "\n",
              "  [theme=dark] .colab-df-quickchart {\n",
              "      --bg-color: #3B4455;\n",
              "      --fill-color: #D2E3FC;\n",
              "      --hover-bg-color: #434B5C;\n",
              "      --hover-fill-color: #FFFFFF;\n",
              "      --disabled-bg-color: #3B4455;\n",
              "      --disabled-fill-color: #666;\n",
              "  }\n",
              "\n",
              "  .colab-df-quickchart {\n",
              "    background-color: var(--bg-color);\n",
              "    border: none;\n",
              "    border-radius: 50%;\n",
              "    cursor: pointer;\n",
              "    display: none;\n",
              "    fill: var(--fill-color);\n",
              "    height: 32px;\n",
              "    padding: 0;\n",
              "    width: 32px;\n",
              "  }\n",
              "\n",
              "  .colab-df-quickchart:hover {\n",
              "    background-color: var(--hover-bg-color);\n",
              "    box-shadow: 0 1px 2px rgba(60, 64, 67, 0.3), 0 1px 3px 1px rgba(60, 64, 67, 0.15);\n",
              "    fill: var(--button-hover-fill-color);\n",
              "  }\n",
              "\n",
              "  .colab-df-quickchart-complete:disabled,\n",
              "  .colab-df-quickchart-complete:disabled:hover {\n",
              "    background-color: var(--disabled-bg-color);\n",
              "    fill: var(--disabled-fill-color);\n",
              "    box-shadow: none;\n",
              "  }\n",
              "\n",
              "  .colab-df-spinner {\n",
              "    border: 2px solid var(--fill-color);\n",
              "    border-color: transparent;\n",
              "    border-bottom-color: var(--fill-color);\n",
              "    animation:\n",
              "      spin 1s steps(1) infinite;\n",
              "  }\n",
              "\n",
              "  @keyframes spin {\n",
              "    0% {\n",
              "      border-color: transparent;\n",
              "      border-bottom-color: var(--fill-color);\n",
              "      border-left-color: var(--fill-color);\n",
              "    }\n",
              "    20% {\n",
              "      border-color: transparent;\n",
              "      border-left-color: var(--fill-color);\n",
              "      border-top-color: var(--fill-color);\n",
              "    }\n",
              "    30% {\n",
              "      border-color: transparent;\n",
              "      border-left-color: var(--fill-color);\n",
              "      border-top-color: var(--fill-color);\n",
              "      border-right-color: var(--fill-color);\n",
              "    }\n",
              "    40% {\n",
              "      border-color: transparent;\n",
              "      border-right-color: var(--fill-color);\n",
              "      border-top-color: var(--fill-color);\n",
              "    }\n",
              "    60% {\n",
              "      border-color: transparent;\n",
              "      border-right-color: var(--fill-color);\n",
              "    }\n",
              "    80% {\n",
              "      border-color: transparent;\n",
              "      border-right-color: var(--fill-color);\n",
              "      border-bottom-color: var(--fill-color);\n",
              "    }\n",
              "    90% {\n",
              "      border-color: transparent;\n",
              "      border-bottom-color: var(--fill-color);\n",
              "    }\n",
              "  }\n",
              "</style>\n",
              "\n",
              "  <script>\n",
              "    async function quickchart(key) {\n",
              "      const quickchartButtonEl =\n",
              "        document.querySelector('#' + key + ' button');\n",
              "      quickchartButtonEl.disabled = true;  // To prevent multiple clicks.\n",
              "      quickchartButtonEl.classList.add('colab-df-spinner');\n",
              "      try {\n",
              "        const charts = await google.colab.kernel.invokeFunction(\n",
              "            'suggestCharts', [key], {});\n",
              "      } catch (error) {\n",
              "        console.error('Error during call to suggestCharts:', error);\n",
              "      }\n",
              "      quickchartButtonEl.classList.remove('colab-df-spinner');\n",
              "      quickchartButtonEl.classList.add('colab-df-quickchart-complete');\n",
              "    }\n",
              "    (() => {\n",
              "      let quickchartButtonEl =\n",
              "        document.querySelector('#df-ade129c0-5720-4c36-9222-c75e08db9cc5 button');\n",
              "      quickchartButtonEl.style.display =\n",
              "        google.colab.kernel.accessAllowed ? 'block' : 'none';\n",
              "    })();\n",
              "  </script>\n",
              "</div>\n",
              "    </div>\n",
              "  </div>\n"
            ],
            "application/vnd.google.colaboratory.intrinsic+json": {
              "type": "dataframe",
              "variable_name": "dataset"
            }
          },
          "metadata": {},
          "execution_count": 41
        }
      ]
    },
    {
      "cell_type": "code",
      "source": [
        "mrp = pymorphy2.MorphAnalyzer(lang='ru')\n",
        "\n",
        "def text_preprocessor(sent, reg=r\"(?:[a-zA-Zа-яА-Я0-9-]+|[!])\", lemmatizer=mrp, stpwrd=russian_stopwords):\n",
        "    sent = re.compile(reg).findall(str(sent))\n",
        "    func_lemma = lambda x: lemmatizer.parse(x)[0].normal_form\n",
        "    sent = list(map(func_lemma, sent))\n",
        "    sent = list(filter(lambda x: x not in russian_stopwords, sent))\n",
        "    sent = \" \".join(sent)\n",
        "    sent = re.compile(r\"не \").sub(\"не_\", sent)\n",
        "    return sent\n",
        "\n",
        "text_preprocessor(\"скотина! что сказать\")\n",
        "text_preprocessor(\"я сегодня проезжала по рабочей и между домами\")\n",
        "text_preprocessor(\"я сегодня не иду на работу\")"
      ],
      "metadata": {
        "colab": {
          "base_uri": "https://localhost:8080/",
          "height": 35
        },
        "id": "cZfwUsmw1J06",
        "outputId": "def8a608-793f-4911-9b50-d517b910778e"
      },
      "execution_count": null,
      "outputs": [
        {
          "output_type": "execute_result",
          "data": {
            "text/plain": [
              "'сегодня не_идти работа'"
            ],
            "application/vnd.google.colaboratory.intrinsic+json": {
              "type": "string"
            }
          },
          "metadata": {},
          "execution_count": 63
        }
      ]
    },
    {
      "cell_type": "code",
      "source": [
        "# dataset['comment_postprocessed'] = dataset['comment'].apply(lambda x: text_preprocessor(x))\n",
        "dataset['comment_postprocessed'] = [text_preprocessor(i) for i in tqdm(dataset['comment'].values)]"
      ],
      "metadata": {
        "colab": {
          "base_uri": "https://localhost:8080/"
        },
        "id": "Hvc1EvgS0mXo",
        "outputId": "7d9013a8-68a1-48c6-d0da-39489368ef72"
      },
      "execution_count": null,
      "outputs": [
        {
          "output_type": "stream",
          "name": "stderr",
          "text": [
            "100%|██████████| 240511/240511 [16:00<00:00, 250.49it/s]\n",
            "<ipython-input-65-feb07b90183d>:2: SettingWithCopyWarning: \n",
            "A value is trying to be set on a copy of a slice from a DataFrame.\n",
            "Try using .loc[row_indexer,col_indexer] = value instead\n",
            "\n",
            "See the caveats in the documentation: https://pandas.pydata.org/pandas-docs/stable/user_guide/indexing.html#returning-a-view-versus-a-copy\n",
            "  dataset['comment_postprocessed'] = [text_preprocessor(i) for i in tqdm(dataset['comment'].values)]\n"
          ]
        }
      ]
    },
    {
      "cell_type": "code",
      "source": [
        "# dataset.to_csv(r\"postprocessed_dataset.csv\", index=False)\n",
        "# dataset = pd.read_csv(r\"postprocessed_dataset.csv\")\n",
        "dataset['target_binary'] = dataset['target'].apply(lambda x: 1 if x == '__label__INSULT' else 0)"
      ],
      "metadata": {
        "colab": {
          "base_uri": "https://localhost:8080/"
        },
        "id": "VnRuTIMHAIrr",
        "outputId": "d305b9ed-38a8-468f-ed4a-a58c972fa5af"
      },
      "execution_count": null,
      "outputs": [
        {
          "output_type": "stream",
          "name": "stderr",
          "text": [
            "<ipython-input-75-a9b5ea2e8037>:2: SettingWithCopyWarning: \n",
            "A value is trying to be set on a copy of a slice from a DataFrame.\n",
            "Try using .loc[row_indexer,col_indexer] = value instead\n",
            "\n",
            "See the caveats in the documentation: https://pandas.pydata.org/pandas-docs/stable/user_guide/indexing.html#returning-a-view-versus-a-copy\n",
            "  dataset['target_binary'] = dataset['target'].apply(lambda x: 1 if x == '__label__INSULT' else 0)\n"
          ]
        }
      ]
    },
    {
      "cell_type": "code",
      "source": [
        "dataset.head()\n",
        "#dataset[dataset.target_binary == 1]"
      ],
      "metadata": {
        "colab": {
          "base_uri": "https://localhost:8080/",
          "height": 206
        },
        "id": "rYrLfdMRBZTj",
        "outputId": "21ece000-ed13-4c7f-b349-0cd740745857"
      },
      "execution_count": null,
      "outputs": [
        {
          "output_type": "execute_result",
          "data": {
            "text/plain": [
              "                                             comment           target  \\\n",
              "0                               скотина! что сказать  __label__INSULT   \n",
              "1  я сегодня проезжала по рабочей и между домами ...  __label__NORMAL   \n",
              "2  очередной лохотрон. зачем придумывать очередно...  __label__NORMAL   \n",
              "3  ретро дежавю ... сложно понять чужое сердце , ...  __label__NORMAL   \n",
              "4            а когда мы статус агрогородка получили?  __label__NORMAL   \n",
              "\n",
              "                               comment_postprocessed  target_binary  \n",
              "0                                  скотина ! сказать              1  \n",
              "1  сегодня проезжать рабочий дом снитенко гомолыс...              0  \n",
              "2  очередной лохотрон придумывать очередной налог...              0  \n",
              "3  ретро дежавю сложно понять чужое сердце лиш ощ...              0  \n",
              "4                        статус агрогородок получить              0  "
            ],
            "text/html": [
              "\n",
              "  <div id=\"df-2fc4586c-c231-493c-a0cf-5d0c3c822d47\" class=\"colab-df-container\">\n",
              "    <div>\n",
              "<style scoped>\n",
              "    .dataframe tbody tr th:only-of-type {\n",
              "        vertical-align: middle;\n",
              "    }\n",
              "\n",
              "    .dataframe tbody tr th {\n",
              "        vertical-align: top;\n",
              "    }\n",
              "\n",
              "    .dataframe thead th {\n",
              "        text-align: right;\n",
              "    }\n",
              "</style>\n",
              "<table border=\"1\" class=\"dataframe\">\n",
              "  <thead>\n",
              "    <tr style=\"text-align: right;\">\n",
              "      <th></th>\n",
              "      <th>comment</th>\n",
              "      <th>target</th>\n",
              "      <th>comment_postprocessed</th>\n",
              "      <th>target_binary</th>\n",
              "    </tr>\n",
              "  </thead>\n",
              "  <tbody>\n",
              "    <tr>\n",
              "      <th>0</th>\n",
              "      <td>скотина! что сказать</td>\n",
              "      <td>__label__INSULT</td>\n",
              "      <td>скотина ! сказать</td>\n",
              "      <td>1</td>\n",
              "    </tr>\n",
              "    <tr>\n",
              "      <th>1</th>\n",
              "      <td>я сегодня проезжала по рабочей и между домами ...</td>\n",
              "      <td>__label__NORMAL</td>\n",
              "      <td>сегодня проезжать рабочий дом снитенко гомолыс...</td>\n",
              "      <td>0</td>\n",
              "    </tr>\n",
              "    <tr>\n",
              "      <th>2</th>\n",
              "      <td>очередной лохотрон. зачем придумывать очередно...</td>\n",
              "      <td>__label__NORMAL</td>\n",
              "      <td>очередной лохотрон придумывать очередной налог...</td>\n",
              "      <td>0</td>\n",
              "    </tr>\n",
              "    <tr>\n",
              "      <th>3</th>\n",
              "      <td>ретро дежавю ... сложно понять чужое сердце , ...</td>\n",
              "      <td>__label__NORMAL</td>\n",
              "      <td>ретро дежавю сложно понять чужое сердце лиш ощ...</td>\n",
              "      <td>0</td>\n",
              "    </tr>\n",
              "    <tr>\n",
              "      <th>4</th>\n",
              "      <td>а когда мы статус агрогородка получили?</td>\n",
              "      <td>__label__NORMAL</td>\n",
              "      <td>статус агрогородок получить</td>\n",
              "      <td>0</td>\n",
              "    </tr>\n",
              "  </tbody>\n",
              "</table>\n",
              "</div>\n",
              "    <div class=\"colab-df-buttons\">\n",
              "\n",
              "  <div class=\"colab-df-container\">\n",
              "    <button class=\"colab-df-convert\" onclick=\"convertToInteractive('df-2fc4586c-c231-493c-a0cf-5d0c3c822d47')\"\n",
              "            title=\"Convert this dataframe to an interactive table.\"\n",
              "            style=\"display:none;\">\n",
              "\n",
              "  <svg xmlns=\"http://www.w3.org/2000/svg\" height=\"24px\" viewBox=\"0 -960 960 960\">\n",
              "    <path d=\"M120-120v-720h720v720H120Zm60-500h600v-160H180v160Zm220 220h160v-160H400v160Zm0 220h160v-160H400v160ZM180-400h160v-160H180v160Zm440 0h160v-160H620v160ZM180-180h160v-160H180v160Zm440 0h160v-160H620v160Z\"/>\n",
              "  </svg>\n",
              "    </button>\n",
              "\n",
              "  <style>\n",
              "    .colab-df-container {\n",
              "      display:flex;\n",
              "      gap: 12px;\n",
              "    }\n",
              "\n",
              "    .colab-df-convert {\n",
              "      background-color: #E8F0FE;\n",
              "      border: none;\n",
              "      border-radius: 50%;\n",
              "      cursor: pointer;\n",
              "      display: none;\n",
              "      fill: #1967D2;\n",
              "      height: 32px;\n",
              "      padding: 0 0 0 0;\n",
              "      width: 32px;\n",
              "    }\n",
              "\n",
              "    .colab-df-convert:hover {\n",
              "      background-color: #E2EBFA;\n",
              "      box-shadow: 0px 1px 2px rgba(60, 64, 67, 0.3), 0px 1px 3px 1px rgba(60, 64, 67, 0.15);\n",
              "      fill: #174EA6;\n",
              "    }\n",
              "\n",
              "    .colab-df-buttons div {\n",
              "      margin-bottom: 4px;\n",
              "    }\n",
              "\n",
              "    [theme=dark] .colab-df-convert {\n",
              "      background-color: #3B4455;\n",
              "      fill: #D2E3FC;\n",
              "    }\n",
              "\n",
              "    [theme=dark] .colab-df-convert:hover {\n",
              "      background-color: #434B5C;\n",
              "      box-shadow: 0px 1px 3px 1px rgba(0, 0, 0, 0.15);\n",
              "      filter: drop-shadow(0px 1px 2px rgba(0, 0, 0, 0.3));\n",
              "      fill: #FFFFFF;\n",
              "    }\n",
              "  </style>\n",
              "\n",
              "    <script>\n",
              "      const buttonEl =\n",
              "        document.querySelector('#df-2fc4586c-c231-493c-a0cf-5d0c3c822d47 button.colab-df-convert');\n",
              "      buttonEl.style.display =\n",
              "        google.colab.kernel.accessAllowed ? 'block' : 'none';\n",
              "\n",
              "      async function convertToInteractive(key) {\n",
              "        const element = document.querySelector('#df-2fc4586c-c231-493c-a0cf-5d0c3c822d47');\n",
              "        const dataTable =\n",
              "          await google.colab.kernel.invokeFunction('convertToInteractive',\n",
              "                                                    [key], {});\n",
              "        if (!dataTable) return;\n",
              "\n",
              "        const docLinkHtml = 'Like what you see? Visit the ' +\n",
              "          '<a target=\"_blank\" href=https://colab.research.google.com/notebooks/data_table.ipynb>data table notebook</a>'\n",
              "          + ' to learn more about interactive tables.';\n",
              "        element.innerHTML = '';\n",
              "        dataTable['output_type'] = 'display_data';\n",
              "        await google.colab.output.renderOutput(dataTable, element);\n",
              "        const docLink = document.createElement('div');\n",
              "        docLink.innerHTML = docLinkHtml;\n",
              "        element.appendChild(docLink);\n",
              "      }\n",
              "    </script>\n",
              "  </div>\n",
              "\n",
              "\n",
              "<div id=\"df-d950a191-78c6-4270-8af1-2a2b3e0ff728\">\n",
              "  <button class=\"colab-df-quickchart\" onclick=\"quickchart('df-d950a191-78c6-4270-8af1-2a2b3e0ff728')\"\n",
              "            title=\"Suggest charts\"\n",
              "            style=\"display:none;\">\n",
              "\n",
              "<svg xmlns=\"http://www.w3.org/2000/svg\" height=\"24px\"viewBox=\"0 0 24 24\"\n",
              "     width=\"24px\">\n",
              "    <g>\n",
              "        <path d=\"M19 3H5c-1.1 0-2 .9-2 2v14c0 1.1.9 2 2 2h14c1.1 0 2-.9 2-2V5c0-1.1-.9-2-2-2zM9 17H7v-7h2v7zm4 0h-2V7h2v10zm4 0h-2v-4h2v4z\"/>\n",
              "    </g>\n",
              "</svg>\n",
              "  </button>\n",
              "\n",
              "<style>\n",
              "  .colab-df-quickchart {\n",
              "      --bg-color: #E8F0FE;\n",
              "      --fill-color: #1967D2;\n",
              "      --hover-bg-color: #E2EBFA;\n",
              "      --hover-fill-color: #174EA6;\n",
              "      --disabled-fill-color: #AAA;\n",
              "      --disabled-bg-color: #DDD;\n",
              "  }\n",
              "\n",
              "  [theme=dark] .colab-df-quickchart {\n",
              "      --bg-color: #3B4455;\n",
              "      --fill-color: #D2E3FC;\n",
              "      --hover-bg-color: #434B5C;\n",
              "      --hover-fill-color: #FFFFFF;\n",
              "      --disabled-bg-color: #3B4455;\n",
              "      --disabled-fill-color: #666;\n",
              "  }\n",
              "\n",
              "  .colab-df-quickchart {\n",
              "    background-color: var(--bg-color);\n",
              "    border: none;\n",
              "    border-radius: 50%;\n",
              "    cursor: pointer;\n",
              "    display: none;\n",
              "    fill: var(--fill-color);\n",
              "    height: 32px;\n",
              "    padding: 0;\n",
              "    width: 32px;\n",
              "  }\n",
              "\n",
              "  .colab-df-quickchart:hover {\n",
              "    background-color: var(--hover-bg-color);\n",
              "    box-shadow: 0 1px 2px rgba(60, 64, 67, 0.3), 0 1px 3px 1px rgba(60, 64, 67, 0.15);\n",
              "    fill: var(--button-hover-fill-color);\n",
              "  }\n",
              "\n",
              "  .colab-df-quickchart-complete:disabled,\n",
              "  .colab-df-quickchart-complete:disabled:hover {\n",
              "    background-color: var(--disabled-bg-color);\n",
              "    fill: var(--disabled-fill-color);\n",
              "    box-shadow: none;\n",
              "  }\n",
              "\n",
              "  .colab-df-spinner {\n",
              "    border: 2px solid var(--fill-color);\n",
              "    border-color: transparent;\n",
              "    border-bottom-color: var(--fill-color);\n",
              "    animation:\n",
              "      spin 1s steps(1) infinite;\n",
              "  }\n",
              "\n",
              "  @keyframes spin {\n",
              "    0% {\n",
              "      border-color: transparent;\n",
              "      border-bottom-color: var(--fill-color);\n",
              "      border-left-color: var(--fill-color);\n",
              "    }\n",
              "    20% {\n",
              "      border-color: transparent;\n",
              "      border-left-color: var(--fill-color);\n",
              "      border-top-color: var(--fill-color);\n",
              "    }\n",
              "    30% {\n",
              "      border-color: transparent;\n",
              "      border-left-color: var(--fill-color);\n",
              "      border-top-color: var(--fill-color);\n",
              "      border-right-color: var(--fill-color);\n",
              "    }\n",
              "    40% {\n",
              "      border-color: transparent;\n",
              "      border-right-color: var(--fill-color);\n",
              "      border-top-color: var(--fill-color);\n",
              "    }\n",
              "    60% {\n",
              "      border-color: transparent;\n",
              "      border-right-color: var(--fill-color);\n",
              "    }\n",
              "    80% {\n",
              "      border-color: transparent;\n",
              "      border-right-color: var(--fill-color);\n",
              "      border-bottom-color: var(--fill-color);\n",
              "    }\n",
              "    90% {\n",
              "      border-color: transparent;\n",
              "      border-bottom-color: var(--fill-color);\n",
              "    }\n",
              "  }\n",
              "</style>\n",
              "\n",
              "  <script>\n",
              "    async function quickchart(key) {\n",
              "      const quickchartButtonEl =\n",
              "        document.querySelector('#' + key + ' button');\n",
              "      quickchartButtonEl.disabled = true;  // To prevent multiple clicks.\n",
              "      quickchartButtonEl.classList.add('colab-df-spinner');\n",
              "      try {\n",
              "        const charts = await google.colab.kernel.invokeFunction(\n",
              "            'suggestCharts', [key], {});\n",
              "      } catch (error) {\n",
              "        console.error('Error during call to suggestCharts:', error);\n",
              "      }\n",
              "      quickchartButtonEl.classList.remove('colab-df-spinner');\n",
              "      quickchartButtonEl.classList.add('colab-df-quickchart-complete');\n",
              "    }\n",
              "    (() => {\n",
              "      let quickchartButtonEl =\n",
              "        document.querySelector('#df-d950a191-78c6-4270-8af1-2a2b3e0ff728 button');\n",
              "      quickchartButtonEl.style.display =\n",
              "        google.colab.kernel.accessAllowed ? 'block' : 'none';\n",
              "    })();\n",
              "  </script>\n",
              "</div>\n",
              "    </div>\n",
              "  </div>\n"
            ],
            "application/vnd.google.colaboratory.intrinsic+json": {
              "type": "dataframe",
              "summary": "{\n  \"name\": \"#dataset[dataset\",\n  \"rows\": 5,\n  \"fields\": [\n    {\n      \"column\": \"comment\",\n      \"properties\": {\n        \"dtype\": \"string\",\n        \"num_unique_values\": 5,\n        \"samples\": [\n          \"\\u044f \\u0441\\u0435\\u0433\\u043e\\u0434\\u043d\\u044f \\u043f\\u0440\\u043e\\u0435\\u0437\\u0436\\u0430\\u043b\\u0430 \\u043f\\u043e \\u0440\\u0430\\u0431\\u043e\\u0447\\u0435\\u0439 \\u0438 \\u043c\\u0435\\u0436\\u0434\\u0443 \\u0434\\u043e\\u043c\\u0430\\u043c\\u0438 \\u0441\\u043d\\u0438\\u0442\\u0435\\u043d\\u043a\\u043e \\u0438 \\u0433\\u043e\\u043c\\u043e\\u043b\\u044b\\u0441\\u043e\\u0432\\u043e\\u0439 \\u043c\\u0430\\u0433\\u0430\\u0437\\u0438\\u043d\\u043e\\u043c ( \\u043d\\u0430 \\u043f\\u0443\\u0441\\u0442\\u044b\\u0440\\u0435) \\u0431\\u0435\\u0436\\u0430\\u043b\\u0430 \\u043a\\u043e\\u0448\\u043a\\u0430 \\u043f\\u043e\\u0445\\u043e\\u0436\\u0435\\u0433\\u043e \\u043e\\u043a\\u0440\\u0430\\u0441\\u0430. \\u043c\\u043e\\u0436\\u0435\\u0442, \\u044f \\u0438 \\u043e\\u0448\\u0438\\u0431\\u043b\\u0430\\u0441\\u044c, \\u043d\\u043e \\u043d\\u0435\\u043e\\u0431\\u044b\\u0447\\u043d\\u044b\\u0439 \\u043e\\u043a\\u0440\\u0430\\u0441 \\u0431\\u0440\\u043e\\u0441\\u0438\\u043b\\u0441\\u044f \\u0432 \\u0433\\u043b\\u0430\\u0437\\u0430.\",\n          \"\\u0430 \\u043a\\u043e\\u0433\\u0434\\u0430 \\u043c\\u044b \\u0441\\u0442\\u0430\\u0442\\u0443\\u0441 \\u0430\\u0433\\u0440\\u043e\\u0433\\u043e\\u0440\\u043e\\u0434\\u043a\\u0430 \\u043f\\u043e\\u043b\\u0443\\u0447\\u0438\\u043b\\u0438?\",\n          \"\\u043e\\u0447\\u0435\\u0440\\u0435\\u0434\\u043d\\u043e\\u0439 \\u043b\\u043e\\u0445\\u043e\\u0442\\u0440\\u043e\\u043d. \\u0437\\u0430\\u0447\\u0435\\u043c \\u043f\\u0440\\u0438\\u0434\\u0443\\u043c\\u044b\\u0432\\u0430\\u0442\\u044c \\u043e\\u0447\\u0435\\u0440\\u0435\\u0434\\u043d\\u043e\\u0439 \\u043d\\u0430\\u043b\\u043e\\u0433 \\u043d\\u0430 \\u0432\\u043e\\u0437\\u0434\\u0443\\u0445, \\u0435\\u0441\\u043b\\u0438 \\u043c\\u043e\\u0436\\u043d\\u043e \\u043e\\u0431\\u044c\\u044f\\u0432\\u0438\\u0442\\u044c \\u0438\\u043d\\u0441\\u0443\\u043b\\u044c\\u0442 \\u0438 \\u0433\\u0440\\u0438\\u043f\\u043f- \\u043f\\u0430\\u043d\\u0434\\u0435\\u043c\\u0438\\u0435\\u0439! \\u0438 \\u043b\\u0438\\u0445\\u043e \\u043d\\u0430 \\u043f\\u0440\\u0438\\u0434\\u0443\\u0440\\u043a\\u0430\\u0445 \\u0437\\u0430\\u0440\\u0430\\u0431\\u0430\\u0442\\u044b\\u0432\\u0430\\u0442\\u044c \\u0433\\u043e\\u0434\\u0430\\u043c\\u0438 \\u043d\\u0430 \\u0448\\u0442\\u0440\\u0430\\u0444\\u0430\\u0445, \\u0444\\u0435\\u0439\\u043a\\u043e\\u0432\\u044b\\u0445 \\u0432\\u0430\\u043a\\u0446\\u0438\\u043d\\u0430\\u0445, \\u0432\\u0441\\u0435\\u0432\\u043e\\u0437\\u043c\\u043e\\u0436\\u043d\\u044b\\u0445 \\u043f\\u043b\\u0430\\u0442\\u043d\\u044b\\u0445 \\u0442\\u0435\\u0441\\u0442\\u0430\\u0445, \\u043f\\u0440\\u043e\\u0434\\u0430\\u0436\\u0435\\u0439 \\u043c\\u0430\\u0441\\u043e\\u043a \\u0438 \\u043f\\u0435\\u0440\\u0447\\u0430\\u0442\\u043e\\u043a \\u043f\\u043e \\u0431\\u0430\\u0441\\u043d\\u043e\\u0441\\u043b\\u043e\\u0432\\u043d\\u044b\\u043c \\u0446\\u0435\\u043d\\u0430\\u043c.. \\u0441\\u0430\\u043c\\u043e\\u0435 \\u0441\\u043c\\u0435\\u0448\\u043d\\u043e\\u0435, \\u0447\\u0442\\u043e \\u0431\\u0430\\u0440\\u0430\\u043d\\u044b \\u0431\\u043b\\u0435\\u044e\\u0442 \\u0438 \\u0432\\u0435\\u0440\\u044f\\u0442 \\u043f\\u0430\\u0441\\u0442\\u0443\\u0445\\u0443, \\u0442\\u0435\\u043b\\u0435\\u0432\\u0438\\u0437\\u043e\\u0440\\u0443. \\u0436\\u0438\\u0432\\u0443\\u0442 \\u043a\\u0430\\u043a \\u043f\\u043e\\u0434 \\u0433\\u0438\\u043f\\u043d\\u043e\\u0437\\u043e\\u043c. \\u043d\\u0435 \\u0434\\u0443\\u043c\\u0430\\u044f, \\u043d\\u0435 \\u0433\\u043b\\u044f\\u0434\\u044f \\u043f\\u043e \\u0441\\u0442\\u043e\\u0440\\u043e\\u043d\\u0430\\u043c.\"\n        ],\n        \"semantic_type\": \"\",\n        \"description\": \"\"\n      }\n    },\n    {\n      \"column\": \"target\",\n      \"properties\": {\n        \"dtype\": \"category\",\n        \"num_unique_values\": 2,\n        \"samples\": [\n          \"__label__NORMAL\",\n          \"__label__INSULT\"\n        ],\n        \"semantic_type\": \"\",\n        \"description\": \"\"\n      }\n    },\n    {\n      \"column\": \"comment_postprocessed\",\n      \"properties\": {\n        \"dtype\": \"string\",\n        \"num_unique_values\": 5,\n        \"samples\": [\n          \"\\u0441\\u0435\\u0433\\u043e\\u0434\\u043d\\u044f \\u043f\\u0440\\u043e\\u0435\\u0437\\u0436\\u0430\\u0442\\u044c \\u0440\\u0430\\u0431\\u043e\\u0447\\u0438\\u0439 \\u0434\\u043e\\u043c \\u0441\\u043d\\u0438\\u0442\\u0435\\u043d\\u043a\\u043e \\u0433\\u043e\\u043c\\u043e\\u043b\\u044b\\u0441\\u043e\\u0432 \\u043c\\u0430\\u0433\\u0430\\u0437\\u0438\\u043d \\u043f\\u0443\\u0441\\u0442\\u044b\\u0440\\u044c \\u0431\\u0435\\u0436\\u0430\\u0442\\u044c \\u043a\\u043e\\u0448\\u043a\\u0430 \\u043f\\u043e\\u0445\\u043e\\u0436\\u0438\\u0439 \\u043e\\u043a\\u0440\\u0430\\u0441 \\u043c\\u043e\\u0447\\u044c \\u043e\\u0448\\u0438\\u0431\\u0438\\u0442\\u044c\\u0441\\u044f \\u043d\\u0435\\u043e\\u0431\\u044b\\u0447\\u043d\\u044b\\u0439 \\u043e\\u043a\\u0440\\u0430\\u0441 \\u0431\\u0440\\u043e\\u0441\\u0438\\u0442\\u044c\\u0441\\u044f \\u0433\\u043b\\u0430\\u0437\",\n          \"\\u0441\\u0442\\u0430\\u0442\\u0443\\u0441 \\u0430\\u0433\\u0440\\u043e\\u0433\\u043e\\u0440\\u043e\\u0434\\u043e\\u043a \\u043f\\u043e\\u043b\\u0443\\u0447\\u0438\\u0442\\u044c\"\n        ],\n        \"semantic_type\": \"\",\n        \"description\": \"\"\n      }\n    },\n    {\n      \"column\": \"target_binary\",\n      \"properties\": {\n        \"dtype\": \"number\",\n        \"std\": 0,\n        \"min\": 0,\n        \"max\": 1,\n        \"num_unique_values\": 2,\n        \"samples\": [\n          0,\n          1\n        ],\n        \"semantic_type\": \"\",\n        \"description\": \"\"\n      }\n    }\n  ]\n}"
            }
          },
          "metadata": {},
          "execution_count": 78
        }
      ]
    },
    {
      "cell_type": "code",
      "source": [
        "X = dataset['comment_postprocessed'].values\n",
        "y = dataset['target_binary'].values\n",
        "X_train, X_test, y_train, y_test = train_test_split(X,\n",
        "                                                    y,\n",
        "                                                    random_state=123,\n",
        "                                                    test_size=0.15,\n",
        "                                                    stratify=y)"
      ],
      "metadata": {
        "id": "JfvF-ByZBBDB"
      },
      "execution_count": null,
      "outputs": []
    },
    {
      "cell_type": "markdown",
      "source": [
        "### pipeline formation"
      ],
      "metadata": {
        "id": "9IAfWzVHxN3Z"
      }
    },
    {
      "cell_type": "code",
      "source": [
        "rstate = np.random.default_rng(42)"
      ],
      "metadata": {
        "id": "HdpKCifEIRq4"
      },
      "execution_count": null,
      "outputs": []
    },
    {
      "cell_type": "code",
      "source": [
        "# итоговая модель\n",
        "model = Pipeline([('embedder', TfidfVectorizer()),\n",
        "                  ('classifier', lgb.LGBMClassifier(max_depth=3, n_estimators=10, class_weight='balanced'))])"
      ],
      "metadata": {
        "id": "FtHMP_m1xQZ9"
      },
      "execution_count": null,
      "outputs": []
    },
    {
      "cell_type": "code",
      "source": [
        "boosting_type = ['gbdt', 'dart', 'rf']\n",
        "max_depth = [2, 3, 4, 5, 6, 7, 10, -1]\n",
        "n_estimators = np.arange(5, 125, 5)\n",
        "search_space = {\n",
        "                'embedder__min_df': hp.uniform(label='min_df', low=0.001, high=0.05),\n",
        "                'embedder__max_df': hp.uniform(label='max_df', low=0.33, high=0.6),\n",
        "                'classifier__boosting_type': hp.choice(label='boosting_type', options=boosting_type),\n",
        "                'classifier__max_depth': hp.choice(label='max_depth', options=max_depth),\n",
        "                'classifier__n_estimators': hp.choice(label='n_estimators', options=n_estimators),\n",
        "                }"
      ],
      "metadata": {
        "id": "EebGraDBAuse"
      },
      "execution_count": null,
      "outputs": []
    },
    {
      "cell_type": "code",
      "source": [
        "def objective(params, pipeline,  X_train, y_train):\n",
        "    \"\"\"\n",
        "    Кросс-валидация с текущими гиперпараметрами\n",
        "\n",
        "    :params: гиперпараметры\n",
        "    :pipeline: модель\n",
        "    :X_train: матрица признаков\n",
        "    :y_train: вектор меток объектов\n",
        "    :return: средняя точность на кросс-валидации\n",
        "    \"\"\"\n",
        "    # задаём модели требуемые параметры\n",
        "    pipeline.set_params(**params)\n",
        "    # задаём параметры кросс-валидации (стратифицированная 4-фолдовая с перемешиванием)\n",
        "    skf = StratifiedKFold(n_splits=4, shuffle=True, random_state=123)\n",
        "    # проводим кросс-валидацию\n",
        "    try:\n",
        "        score = cross_val_score(estimator=pipeline, X=X_train, y=y_train,\n",
        "                                scoring='roc_auc', cv=skf, n_jobs=4)\n",
        "    except:\n",
        "        return {'loss': 0, 'params': params, 'status': STATUS_FAIL}\n",
        "    # возвращаем результаты, которые записываются в Trials()\n",
        "    return {'loss': -score.mean(), 'params': params, 'status': STATUS_OK}"
      ],
      "metadata": {
        "id": "myThObHLAvL0"
      },
      "execution_count": null,
      "outputs": []
    },
    {
      "cell_type": "code",
      "source": [
        "# запускаем hyperopt\n",
        "trials = Trials()\n",
        "best = fmin(\n",
        "          # функция для оптимизации\n",
        "            fn=partial(objective, pipeline=model, X_train=X_train[:10000], y_train=y_train[:10000]),\n",
        "          # пространство поиска гиперпараметров\n",
        "            space=search_space,\n",
        "          # алгоритм поиска\n",
        "            algo=tpe.suggest,\n",
        "          # число итераций\n",
        "          # (можно ещё указать и время поиска)\n",
        "            max_evals=40,\n",
        "          # куда сохранять историю поиска\n",
        "            trials=trials,\n",
        "          # random state\n",
        "            rstate=rstate,\n",
        "          # progressbar\n",
        "            show_progressbar=True\n",
        "        )"
      ],
      "metadata": {
        "colab": {
          "base_uri": "https://localhost:8080/"
        },
        "id": "QRTDDC2jAxK4",
        "outputId": "0f7f9aed-597b-46d0-c1e3-beca3c1d1da6"
      },
      "execution_count": null,
      "outputs": [
        {
          "output_type": "stream",
          "name": "stdout",
          "text": [
            "100%|██████████| 40/40 [00:42<00:00,  1.06s/trial, best loss: -0.7864031925162047]\n"
          ]
        }
      ]
    },
    {
      "cell_type": "code",
      "source": [
        "statuses = [i['result']['status'] for i in trials.trials]\n",
        "# интересно почему упало?\n",
        "outputs_hp = [i for i, j in zip(trials.trials, statuses) if j == 'fail']\n",
        "print(\"Упавшие варианты: \", len(outputs_hp))\n",
        "\n",
        "best_reset = dict()\n",
        "best_reset['classifier__boosting_type'] = boosting_type[best['boosting_type']]\n",
        "best_reset['classifier__max_depth'] = max_depth[best['max_depth']]\n",
        "best_reset['classifier__n_estimators'] = n_estimators[best['n_estimators']]\n",
        "best_reset['embedder__max_df'] = best['max_df']\n",
        "best_reset['embedder__min_df'] = best['min_df']"
      ],
      "metadata": {
        "colab": {
          "base_uri": "https://localhost:8080/"
        },
        "id": "TWXorvj1JT0r",
        "outputId": "c35e00fe-4991-4494-beed-a29d34633353"
      },
      "execution_count": null,
      "outputs": [
        {
          "output_type": "stream",
          "name": "stdout",
          "text": [
            "Упавшие варианты:  8\n"
          ]
        }
      ]
    },
    {
      "cell_type": "code",
      "source": [
        "best_reset"
      ],
      "metadata": {
        "colab": {
          "base_uri": "https://localhost:8080/"
        },
        "id": "vRTVTgALMFTr",
        "outputId": "267efb06-dd0f-4396-fe59-a1484dc77bf4"
      },
      "execution_count": null,
      "outputs": [
        {
          "output_type": "execute_result",
          "data": {
            "text/plain": [
              "{'classifier__boosting_type': 'gbdt',\n",
              " 'classifier__max_depth': 3,\n",
              " 'classifier__n_estimators': 75,\n",
              " 'embedder__max_df': 0.4928643309276279,\n",
              " 'embedder__min_df': 0.0012850043662593}"
            ]
          },
          "metadata": {},
          "execution_count": 188
        }
      ]
    },
    {
      "cell_type": "code",
      "source": [
        "model.set_params(**best_reset)\n",
        "model.fit(X_train[:10000], y_train[:10000])"
      ],
      "metadata": {
        "id": "hfeu4Z0PMRGk"
      },
      "execution_count": null,
      "outputs": []
    },
    {
      "cell_type": "code",
      "source": [
        "print(\"roc-auc train: \", roc_auc_score(y_train[:10000], model.predict_proba(X_train[:10000])[:, 1]))\n",
        "print(\"roc-auc test: \", roc_auc_score(y_test, model.predict_proba(X_test)[:, 1]))"
      ],
      "metadata": {
        "colab": {
          "base_uri": "https://localhost:8080/"
        },
        "id": "4HW5BWT8L1OL",
        "outputId": "3d0a485a-1740-4315-97d3-ac6d85529f26"
      },
      "execution_count": null,
      "outputs": [
        {
          "output_type": "stream",
          "name": "stdout",
          "text": [
            "roc-auc train:  0.8252256262884073\n",
            "roc-auc test:  0.8120062487775127\n"
          ]
        }
      ]
    },
    {
      "cell_type": "markdown",
      "source": [
        "### NN architectures word2vec by words(not morphems)"
      ],
      "metadata": {
        "id": "x7_Q2N71_lEn"
      }
    },
    {
      "cell_type": "code",
      "source": [
        "import tensorflow as tf\n",
        "from tensorflow.keras import models as md\n",
        "from tensorflow.keras import layers as ls\n",
        "from tensorflow.keras import optimizers as opt\n",
        "from tensorflow.keras import metrics as mt\n",
        "from tensorflow.keras import callbacks as clb\n",
        "from tensorflow.keras import losses as lss\n",
        "\n",
        "import matplotlib.pyplot as plt"
      ],
      "metadata": {
        "id": "MxQCSUwP_spc"
      },
      "execution_count": null,
      "outputs": []
    },
    {
      "cell_type": "code",
      "source": [
        "class Reconfigure:\n",
        "    def __init__(self, max_shape=18):\n",
        "        self.vocab = None\n",
        "        self.length_hist = None\n",
        "        self.max_shape = max_shape\n",
        "\n",
        "    def __text2nums(self, ln_vocab, data):\n",
        "        output = []\n",
        "        for text in data:\n",
        "            prom = []\n",
        "            for word in text.split():\n",
        "                if word in self.vocab:\n",
        "                    prom.append(self.vocab[word])\n",
        "                else:\n",
        "                    prom.append(ln_vocab)\n",
        "            if len(prom) < self.max_shape:\n",
        "                prom = prom + [ln_vocab + 1]*(self.max_shape - len(prom))\n",
        "            output.append(prom[:self.max_shape])\n",
        "        return np.array(output, dtype=int)\n",
        "\n",
        "    def fit_transform(self, data):\n",
        "        self.vocab = dict(enumerate(set(chain(*[i.split() for i in data]))))\n",
        "        ln_vocab = len(self.vocab)\n",
        "        self.vocab[ln_vocab] = 'UNKNOWN'\n",
        "        self.vocab[ln_vocab + 1] = 'ZERO_PAD'\n",
        "        self.vocab = {self.vocab[i]: i for i in self.vocab}\n",
        "        self.length_hist = sorted(dict(Counter([len(i.split()) for i in data])).items(), key=lambda x: -x[1])\n",
        "        return self.__text2nums(ln_vocab, data)\n",
        "\n",
        "    def transform(self, data):\n",
        "        assert not self.vocab is None, \"Сначала нужно обучить реконфигуратор!\"\n",
        "        ln_vocab = len(self.vocab)\n",
        "        return self.__text2nums(ln_vocab, data)"
      ],
      "metadata": {
        "id": "B_w1wbYuQhF_"
      },
      "execution_count": null,
      "outputs": []
    },
    {
      "cell_type": "code",
      "source": [
        "e = Reconfigure()\n",
        "X_transformed = e.fit_transform(X_train[:10000])"
      ],
      "metadata": {
        "id": "uN3P_Ca-RVQ_"
      },
      "execution_count": null,
      "outputs": []
    },
    {
      "cell_type": "code",
      "source": [
        "def model_nn(shape_=X_transformed.shape, vocab_size=len(e.vocab), n_units=e.max_shape):\n",
        "    input = ls.Input(shape_[1])\n",
        "    x = ls.Embedding(vocab_size, 300)(input)\n",
        "    x = ls.LSTM(n_units, activation=\"tanh\", recurrent_activation=\"sigmoid\", dropout=0.0, return_sequences=False)(x)\n",
        "    # x = ls.Dense(128)(x)\n",
        "    x = ls.Dense(1, activation='sigmoid')(x)\n",
        "    model = md.Model(inputs=[input], outputs=[x])\n",
        "    return model\n",
        "\n",
        "md1 = model_nn()\n",
        "md1.summary()"
      ],
      "metadata": {
        "colab": {
          "base_uri": "https://localhost:8080/"
        },
        "id": "YhQGMwO6WWhJ",
        "outputId": "fc1af880-8b09-4e0a-e71a-a7f476861d76"
      },
      "execution_count": null,
      "outputs": [
        {
          "output_type": "stream",
          "name": "stdout",
          "text": [
            "Model: \"model_9\"\n",
            "_________________________________________________________________\n",
            " Layer (type)                Output Shape              Param #   \n",
            "=================================================================\n",
            " input_17 (InputLayer)       [(None, 18)]              0         \n",
            "                                                                 \n",
            " embedding_10 (Embedding)    (None, 18, 300)           6182400   \n",
            "                                                                 \n",
            " lstm_6 (LSTM)               (None, 18)                22968     \n",
            "                                                                 \n",
            " dense_10 (Dense)            (None, 1)                 19        \n",
            "                                                                 \n",
            "=================================================================\n",
            "Total params: 6205387 (23.67 MB)\n",
            "Trainable params: 6205387 (23.67 MB)\n",
            "Non-trainable params: 0 (0.00 Byte)\n",
            "_________________________________________________________________\n"
          ]
        }
      ]
    },
    {
      "cell_type": "code",
      "source": [
        "md1.compile(\n",
        "    optimizer=\"rmsprop\",\n",
        "    loss=lss.BinaryCrossentropy(),\n",
        "    loss_weights=None,\n",
        "    metrics=['AUC'],\n",
        ")\n",
        "md1.fit(X_transformed, y_train[:100000], batch_size=32, epochs=10, validation_split=0.15)"
      ],
      "metadata": {
        "colab": {
          "base_uri": "https://localhost:8080/"
        },
        "id": "aHA1m7vMRao_",
        "outputId": "0933fae5-b6d3-4025-af4b-39df5f997107"
      },
      "execution_count": null,
      "outputs": [
        {
          "output_type": "stream",
          "name": "stdout",
          "text": [
            "Epoch 1/10\n",
            "266/266 [==============================] - 15s 47ms/step - loss: 0.3917 - auc: 0.6648 - val_loss: 0.2566 - val_auc: 0.9083\n",
            "Epoch 2/10\n",
            "266/266 [==============================] - 11s 43ms/step - loss: 0.1703 - auc: 0.9538 - val_loss: 0.1775 - val_auc: 0.9359\n",
            "Epoch 3/10\n",
            "266/266 [==============================] - 11s 42ms/step - loss: 0.0705 - auc: 0.9901 - val_loss: 0.2589 - val_auc: 0.9363\n",
            "Epoch 4/10\n",
            "266/266 [==============================] - 12s 44ms/step - loss: 0.0315 - auc: 0.9960 - val_loss: 0.2496 - val_auc: 0.9220\n",
            "Epoch 5/10\n",
            "266/266 [==============================] - 11s 43ms/step - loss: 0.0159 - auc: 0.9982 - val_loss: 0.3788 - val_auc: 0.9125\n",
            "Epoch 6/10\n",
            "266/266 [==============================] - 12s 44ms/step - loss: 0.0104 - auc: 0.9984 - val_loss: 0.5199 - val_auc: 0.9144\n",
            "Epoch 7/10\n",
            "266/266 [==============================] - 15s 56ms/step - loss: 0.0053 - auc: 0.9994 - val_loss: 0.4458 - val_auc: 0.9025\n",
            "Epoch 8/10\n",
            "266/266 [==============================] - 11s 40ms/step - loss: 0.0048 - auc: 0.9995 - val_loss: 0.4834 - val_auc: 0.8891\n",
            "Epoch 9/10\n",
            "266/266 [==============================] - 11s 43ms/step - loss: 0.0031 - auc: 0.9995 - val_loss: 0.7215 - val_auc: 0.8822\n",
            "Epoch 10/10\n",
            "266/266 [==============================] - 12s 44ms/step - loss: 0.0034 - auc: 0.9995 - val_loss: 0.9768 - val_auc: 0.8760\n"
          ]
        },
        {
          "output_type": "execute_result",
          "data": {
            "text/plain": [
              "<keras.src.callbacks.History at 0x7f1cdcddf460>"
            ]
          },
          "metadata": {},
          "execution_count": 300
        }
      ]
    },
    {
      "cell_type": "code",
      "source": [],
      "metadata": {
        "id": "IyuFIvIMZu1D"
      },
      "execution_count": null,
      "outputs": []
    },
    {
      "cell_type": "markdown",
      "source": [
        "### berts"
      ],
      "metadata": {
        "id": "TnedFrMU_p4p"
      }
    },
    {
      "cell_type": "code",
      "source": [],
      "metadata": {
        "id": "ARFKO0iX_pWd"
      },
      "execution_count": null,
      "outputs": []
    }
  ]
}